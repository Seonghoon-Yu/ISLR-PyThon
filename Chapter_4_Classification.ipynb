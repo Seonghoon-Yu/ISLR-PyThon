{
  "nbformat": 4,
  "nbformat_minor": 0,
  "metadata": {
    "colab": {
      "name": "Chapter 4 - Classification.ipynb",
      "provenance": [],
      "collapsed_sections": [],
      "authorship_tag": "ABX9TyPzuhwZeO1W/89gGJhz4AHl",
      "include_colab_link": true
    },
    "kernelspec": {
      "name": "python3",
      "display_name": "Python 3"
    },
    "language_info": {
      "name": "python"
    }
  },
  "cells": [
    {
      "cell_type": "markdown",
      "metadata": {
        "id": "view-in-github",
        "colab_type": "text"
      },
      "source": [
        "<a href=\"https://colab.research.google.com/github/Seonghoon-Yu/ISLR-Python/blob/main/Chapter_4_Classification.ipynb\" target=\"_parent\"><img src=\"https://colab.research.google.com/assets/colab-badge.svg\" alt=\"Open In Colab\"/></a>"
      ]
    },
    {
      "cell_type": "markdown",
      "metadata": {
        "id": "Nz7bBNFMb7Oj"
      },
      "source": [
        "# Chapter 4 - Classification(분류)"
      ]
    },
    {
      "cell_type": "code",
      "metadata": {
        "id": "bWemBpTVbLj_"
      },
      "source": [
        "import pandas as pd\n",
        "import numpy as np\n",
        "import matplotlib as mpl\n",
        "import matplotlib.pyplot as plt\n",
        "import seaborn as sns\n",
        "\n",
        "import sklearn.linear_model as skl_lm\n",
        "from sklearn.discriminant_analysis import LinearDiscriminantAnalysis\n",
        "from sklearn.discriminant_analysis import QuadraticDiscriminantAnalysis\n",
        "from sklearn.metrics import confusion_matrix, classification_report, precision_score\n",
        "from sklearn import preprocessing\n",
        "from sklearn import neighbors\n",
        "\n",
        "import statsmodels.api as sm\n",
        "import statsmodels.formula.api as smf\n",
        "\n",
        "%matplotlib inline\n",
        "plt.style.use('seaborn-white')"
      ],
      "execution_count": 17,
      "outputs": []
    },
    {
      "cell_type": "markdown",
      "metadata": {
        "id": "f4gp4kzdb_xt"
      },
      "source": [
        "## 데이터셋 불러오기"
      ]
    },
    {
      "cell_type": "code",
      "metadata": {
        "colab": {
          "base_uri": "https://localhost:8080/"
        },
        "id": "vFttBzT7b1z6",
        "outputId": "658f6f9b-109b-4f3d-da82-0e611f7af94d"
      },
      "source": [
        "# 깃허브를 클론합니다.\n",
        "!git clone https://github.com/emredjan/ISL-python"
      ],
      "execution_count": 3,
      "outputs": [
        {
          "output_type": "stream",
          "text": [
            "Cloning into 'ISL-python'...\n",
            "remote: Enumerating objects: 203, done.\u001b[K\n",
            "remote: Counting objects: 100% (9/9), done.\u001b[K\n",
            "remote: Compressing objects: 100% (9/9), done.\u001b[K\n",
            "remote: Total 203 (delta 3), reused 0 (delta 0), pack-reused 194\u001b[K\n",
            "Receiving objects: 100% (203/203), 16.94 MiB | 27.75 MiB/s, done.\n",
            "Resolving deltas: 100% (86/86), done.\n"
          ],
          "name": "stdout"
        }
      ]
    },
    {
      "cell_type": "code",
      "metadata": {
        "colab": {
          "base_uri": "https://localhost:8080/",
          "height": 135
        },
        "id": "mS48DKLMcDWp",
        "outputId": "92987582-9c6b-4e36-f05e-2f3071878eae"
      },
      "source": [
        "df = pd.read_csv('/content/ISL-python/datasets/Default.csv')\n",
        "\n",
        "# factoriza()는 2개의 객체를 반환합니다.\n",
        "# label array, 특정 값을 지닌 array\n",
        "# 여기서는 label array에만 관심이 있습니다.\n",
        "df['default2'] = df.default.factorize()[0]\n",
        "df['student2'] = df.student.factorize()[0]\n",
        "df.head(3)"
      ],
      "execution_count": 6,
      "outputs": [
        {
          "output_type": "execute_result",
          "data": {
            "text/html": [
              "<div>\n",
              "<style scoped>\n",
              "    .dataframe tbody tr th:only-of-type {\n",
              "        vertical-align: middle;\n",
              "    }\n",
              "\n",
              "    .dataframe tbody tr th {\n",
              "        vertical-align: top;\n",
              "    }\n",
              "\n",
              "    .dataframe thead th {\n",
              "        text-align: right;\n",
              "    }\n",
              "</style>\n",
              "<table border=\"1\" class=\"dataframe\">\n",
              "  <thead>\n",
              "    <tr style=\"text-align: right;\">\n",
              "      <th></th>\n",
              "      <th>Unnamed: 0</th>\n",
              "      <th>default</th>\n",
              "      <th>student</th>\n",
              "      <th>balance</th>\n",
              "      <th>income</th>\n",
              "      <th>default2</th>\n",
              "      <th>student2</th>\n",
              "    </tr>\n",
              "  </thead>\n",
              "  <tbody>\n",
              "    <tr>\n",
              "      <th>0</th>\n",
              "      <td>1</td>\n",
              "      <td>No</td>\n",
              "      <td>No</td>\n",
              "      <td>729.526495</td>\n",
              "      <td>44361.625074</td>\n",
              "      <td>0</td>\n",
              "      <td>0</td>\n",
              "    </tr>\n",
              "    <tr>\n",
              "      <th>1</th>\n",
              "      <td>2</td>\n",
              "      <td>No</td>\n",
              "      <td>Yes</td>\n",
              "      <td>817.180407</td>\n",
              "      <td>12106.134700</td>\n",
              "      <td>0</td>\n",
              "      <td>1</td>\n",
              "    </tr>\n",
              "    <tr>\n",
              "      <th>2</th>\n",
              "      <td>3</td>\n",
              "      <td>No</td>\n",
              "      <td>No</td>\n",
              "      <td>1073.549164</td>\n",
              "      <td>31767.138947</td>\n",
              "      <td>0</td>\n",
              "      <td>0</td>\n",
              "    </tr>\n",
              "  </tbody>\n",
              "</table>\n",
              "</div>"
            ],
            "text/plain": [
              "   Unnamed: 0 default student      balance        income  default2  student2\n",
              "0           1      No      No   729.526495  44361.625074         0         0\n",
              "1           2      No     Yes   817.180407  12106.134700         0         1\n",
              "2           3      No      No  1073.549164  31767.138947         0         0"
            ]
          },
          "metadata": {
            "tags": []
          },
          "execution_count": 6
        }
      ]
    },
    {
      "cell_type": "markdown",
      "metadata": {
        "id": "5XtQN4jfdCKC"
      },
      "source": [
        "#### 설명 변수와 반응 변수 시각화\n",
        "- 설명 변수: balance, income\n",
        "- 반응 변수: default"
      ]
    },
    {
      "cell_type": "code",
      "metadata": {
        "colab": {
          "base_uri": "https://localhost:8080/",
          "height": 455
        },
        "id": "yrPMe8bycObl",
        "outputId": "83216b9c-d274-4987-a8d8-c0f517e06eb7"
      },
      "source": [
        "# 설명 변수: balance, income\n",
        "# 반응 변수: default\n",
        "\n",
        "fig = plt.figure(figsize=(12,5))\n",
        "gs = mpl.gridspec.GridSpec(1,4)\n",
        "ax1 = plt.subplot(gs[0,:-2])\n",
        "ax2 = plt.subplot(gs[0,-2])\n",
        "ax3 = plt.subplot(gs[0,-1])\n",
        "\n",
        "# default = no인 sample 추출\n",
        "df_no = df[df.default2 == 0].sample(frac=0.15)\n",
        "\n",
        "# default = yse인 sample 추출\n",
        "df_yes = df[df.default2==1]\n",
        "\n",
        "df_ = df_no.append(df_yes)\n",
        "\n",
        "# 산점도\n",
        "ax1.scatter(df_[df_.default == 'Yes'].balance, df_[df_.default == 'Yes'].income, s=40, c='orange', marker='+', linewidth=1)\n",
        "ax1.scatter(df_[df_.default == 'No'].balance, df_[df_.default == 'No'].income, s=40, marker='o', linewidths='1',\n",
        "            edgecolors='lightblue', facecolors='white', alpha=.6)\n",
        "\n",
        "ax1.set_ylim(ymin=0)\n",
        "ax1.set_ylabel('Income')\n",
        "ax1.set_xlim(xmin=-100)\n",
        "ax1.set_xlabel('Balance')\n",
        "\n",
        "# 박스 상자\n",
        "c_palette = {'No':'lightblue', 'Yes':'orange'}\n",
        "sns.boxplot('default', 'balance', data=df, orient='v', ax=ax2, palette=c_palette)\n",
        "sns.boxplot('default', 'income', data=df, orient='v', ax=ax3, palette=c_palette)\n",
        "gs.tight_layout(plt.gcf())"
      ],
      "execution_count": 11,
      "outputs": [
        {
          "output_type": "stream",
          "text": [
            "/usr/local/lib/python3.7/dist-packages/seaborn/_decorators.py:43: FutureWarning: Pass the following variables as keyword args: x, y. From version 0.12, the only valid positional argument will be `data`, and passing other arguments without an explicit keyword will result in an error or misinterpretation.\n",
            "  FutureWarning\n",
            "/usr/local/lib/python3.7/dist-packages/seaborn/_decorators.py:43: FutureWarning: Pass the following variables as keyword args: x, y. From version 0.12, the only valid positional argument will be `data`, and passing other arguments without an explicit keyword will result in an error or misinterpretation.\n",
            "  FutureWarning\n"
          ],
          "name": "stderr"
        },
        {
          "output_type": "display_data",
          "data": {
            "image/png": "[encoded data removed]",
            "text/plain": [
              "<Figure size 864x360 with 3 Axes>"
            ]
          },
          "metadata": {
            "tags": []
          }
        }
      ]
    },
    {
      "cell_type": "markdown",
      "metadata": {
        "id": "6h-ZmcCxgdyM"
      },
      "source": [
        "## 4.3 Logistic Regression"
      ]
    },
    {
      "cell_type": "markdown",
      "metadata": {
        "id": "zLkOB2ihgm8I"
      },
      "source": [
        "#### linear regression vs logistic regression 비교\n",
        "- 반응 변수가 범주형인 경우 logistic을 사용하면 출력값을 확률로 표현할 수 있습니다."
      ]
    },
    {
      "cell_type": "code",
      "metadata": {
        "colab": {
          "base_uri": "https://localhost:8080/",
          "height": 385
        },
        "id": "ChFioukWfyPz",
        "outputId": "c8e0600a-55bd-4510-c005-ff0a9b2388d4"
      },
      "source": [
        "X_train = df.balance.values.reshape(-1,1)\n",
        "y = df.default2\n",
        "\n",
        "# test data 배열 생성\n",
        "# classification 확률과 class 예측값을 계산\n",
        "X_test = np.arange(df.balance.min(), df.balance.max()).reshape(-1,1)\n",
        "\n",
        "clf = skl_lm.LogisticRegression(solver='newton-cg') # 로지스틱 회귀\n",
        "clf.fit(X_train,y) # 계수 예측\n",
        "prob = clf.predict_proba(X_test) # X_test에 대한 확률 계산\n",
        "\n",
        "fig, (ax1, ax2) = plt.subplots(1,2,figsize=(12,5))\n",
        "\n",
        "# 왼쪽 plot, 선형 회귀\n",
        "sns.regplot(df.balance, df.default2, order=1, ci=None,\n",
        "            scatter_kws={'color':'orange'},\n",
        "            line_kws={'color':'lightblue', 'lw':2}, ax=ax1)\n",
        "\n",
        "# 오른쪽 plot, 로지스틱 회귀\n",
        "ax2.scatter(X_train, y, color='orange')\n",
        "ax2.plot(X_test, prob[:,1], color='lightblue')\n",
        "\n",
        "for ax in fig.axes:\n",
        "    ax.hlines(1, xmin=ax.xaxis.get_data_interval()[0],\n",
        "              xmax=ax.xaxis.get_data_interval()[1], linestyles='dashed', lw=1)\n",
        "    ax.hlines(0, xmin=ax.xaxis.get_data_interval()[0],\n",
        "              xmax=ax.xaxis.get_data_interval()[1], linestyles='dashed', lw=1)\n",
        "    ax.set_ylabel('Probability of default')\n",
        "    ax.set_xlabel('Balance')\n",
        "    ax.set_yticks([0, 0.25, 0.5, 0.75, 1])\n",
        "    ax.set_xlim(xmin=-100)"
      ],
      "execution_count": 19,
      "outputs": [
        {
          "output_type": "stream",
          "text": [
            "/usr/local/lib/python3.7/dist-packages/seaborn/_decorators.py:43: FutureWarning: Pass the following variables as keyword args: x, y. From version 0.12, the only valid positional argument will be `data`, and passing other arguments without an explicit keyword will result in an error or misinterpretation.\n",
            "  FutureWarning\n"
          ],
          "name": "stderr"
        },
        {
          "output_type": "display_data",
          "data": {
            "image/png": "[encoded data removed]",
            "text/plain": [
              "<Figure size 864x360 with 2 Axes>"
            ]
          },
          "metadata": {
            "tags": []
          }
        }
      ]
    },
    {
      "cell_type": "markdown",
      "metadata": {
        "id": "dorbUpdmjUES"
      },
      "source": [
        "#### 로지스틱 회귀 통계값\n",
        "- 설명 변수: balance\n",
        "- 반응 변수: default"
      ]
    },
    {
      "cell_type": "code",
      "metadata": {
        "id": "PF7rw12finet"
      },
      "source": [
        "y = df.default2"
      ],
      "execution_count": 20,
      "outputs": []
    },
    {
      "cell_type": "code",
      "metadata": {
        "colab": {
          "base_uri": "https://localhost:8080/"
        },
        "id": "BwaN3CDqjdtW",
        "outputId": "c98fdb43-6877-49f4-b225-1203a7a4ba9c"
      },
      "source": [
        "clf = skl_lm.LogisticRegression(solver='newton-cg') # 로지스틱 회귀 수행\n",
        "X_train = df.balance.values.reshape(-1,1) # balance\n",
        "clf.fit(X_train,y) # 계수 예측\n",
        "\n",
        "print(clf)\n",
        "print('classes: ', clf.classes_)\n",
        "print('coefficients: ', clf.coef_)\n",
        "print('intercept :',clf.intercept_)"
      ],
      "execution_count": 21,
      "outputs": [
        {
          "output_type": "stream",
          "text": [
            "LogisticRegression(C=1.0, class_weight=None, dual=False, fit_intercept=True,\n",
            "                   intercept_scaling=1, l1_ratio=None, max_iter=100,\n",
            "                   multi_class='auto', n_jobs=None, penalty='l2',\n",
            "                   random_state=None, solver='newton-cg', tol=0.0001, verbose=0,\n",
            "                   warm_start=False)\n",
            "classes:  [0 1]\n",
            "coefficients:  [[0.00549891]]\n",
            "intercept : [-10.65132573]\n"
          ],
          "name": "stdout"
        }
      ]
    },
    {
      "cell_type": "code",
      "metadata": {
        "colab": {
          "base_uri": "https://localhost:8080/",
          "height": 159
        },
        "id": "w9PuYRBlkHaX",
        "outputId": "203eff30-dabf-4c39-d713-e69aac0a4794"
      },
      "source": [
        "X_train = sm.add_constant(df.balance)\n",
        "est = sm.Logit(y.ravel(), X_train).fit()\n",
        "est.summary2().tables[1]"
      ],
      "execution_count": 29,
      "outputs": [
        {
          "output_type": "stream",
          "text": [
            "Optimization terminated successfully.\n",
            "         Current function value: 0.079823\n",
            "         Iterations 10\n"
          ],
          "name": "stdout"
        },
        {
          "output_type": "execute_result",
          "data": {
            "text/html": [
              "<div>\n",
              "<style scoped>\n",
              "    .dataframe tbody tr th:only-of-type {\n",
              "        vertical-align: middle;\n",
              "    }\n",
              "\n",
              "    .dataframe tbody tr th {\n",
              "        vertical-align: top;\n",
              "    }\n",
              "\n",
              "    .dataframe thead th {\n",
              "        text-align: right;\n",
              "    }\n",
              "</style>\n",
              "<table border=\"1\" class=\"dataframe\">\n",
              "  <thead>\n",
              "    <tr style=\"text-align: right;\">\n",
              "      <th></th>\n",
              "      <th>Coef.</th>\n",
              "      <th>Std.Err.</th>\n",
              "      <th>z</th>\n",
              "      <th>P&gt;|z|</th>\n",
              "      <th>[0.025</th>\n",
              "      <th>0.975]</th>\n",
              "    </tr>\n",
              "  </thead>\n",
              "  <tbody>\n",
              "    <tr>\n",
              "      <th>const</th>\n",
              "      <td>-10.651331</td>\n",
              "      <td>0.361169</td>\n",
              "      <td>-29.491287</td>\n",
              "      <td>3.723665e-191</td>\n",
              "      <td>-11.359208</td>\n",
              "      <td>-9.943453</td>\n",
              "    </tr>\n",
              "    <tr>\n",
              "      <th>balance</th>\n",
              "      <td>0.005499</td>\n",
              "      <td>0.000220</td>\n",
              "      <td>24.952404</td>\n",
              "      <td>2.010855e-137</td>\n",
              "      <td>0.005067</td>\n",
              "      <td>0.005931</td>\n",
              "    </tr>\n",
              "  </tbody>\n",
              "</table>\n",
              "</div>"
            ],
            "text/plain": [
              "             Coef.  Std.Err.          z          P>|z|     [0.025    0.975]\n",
              "const   -10.651331  0.361169 -29.491287  3.723665e-191 -11.359208 -9.943453\n",
              "balance   0.005499  0.000220  24.952404  2.010855e-137   0.005067  0.005931"
            ]
          },
          "metadata": {
            "tags": []
          },
          "execution_count": 29
        }
      ]
    },
    {
      "cell_type": "markdown",
      "metadata": {
        "id": "OjIpf7GinZB-"
      },
      "source": [
        "#### 로지스틱 회귀 통계값\n",
        "- 설명 변수: student\n",
        "- 반응 변수: default"
      ]
    },
    {
      "cell_type": "code",
      "metadata": {
        "colab": {
          "base_uri": "https://localhost:8080/",
          "height": 159
        },
        "id": "UyVqpFMYkLx3",
        "outputId": "7a852419-0899-498e-c011-fe50c66ad19c"
      },
      "source": [
        "X_train = sm.add_constant(df.student2)\n",
        "y = df.default2\n",
        "\n",
        "est = sm.Logit(y, X_train).fit()\n",
        "est.summary2().tables[1]"
      ],
      "execution_count": 30,
      "outputs": [
        {
          "output_type": "stream",
          "text": [
            "Optimization terminated successfully.\n",
            "         Current function value: 0.145434\n",
            "         Iterations 7\n"
          ],
          "name": "stdout"
        },
        {
          "output_type": "execute_result",
          "data": {
            "text/html": [
              "<div>\n",
              "<style scoped>\n",
              "    .dataframe tbody tr th:only-of-type {\n",
              "        vertical-align: middle;\n",
              "    }\n",
              "\n",
              "    .dataframe tbody tr th {\n",
              "        vertical-align: top;\n",
              "    }\n",
              "\n",
              "    .dataframe thead th {\n",
              "        text-align: right;\n",
              "    }\n",
              "</style>\n",
              "<table border=\"1\" class=\"dataframe\">\n",
              "  <thead>\n",
              "    <tr style=\"text-align: right;\">\n",
              "      <th></th>\n",
              "      <th>Coef.</th>\n",
              "      <th>Std.Err.</th>\n",
              "      <th>z</th>\n",
              "      <th>P&gt;|z|</th>\n",
              "      <th>[0.025</th>\n",
              "      <th>0.975]</th>\n",
              "    </tr>\n",
              "  </thead>\n",
              "  <tbody>\n",
              "    <tr>\n",
              "      <th>const</th>\n",
              "      <td>-3.504128</td>\n",
              "      <td>0.070713</td>\n",
              "      <td>-49.554094</td>\n",
              "      <td>0.000000</td>\n",
              "      <td>-3.642723</td>\n",
              "      <td>-3.365532</td>\n",
              "    </tr>\n",
              "    <tr>\n",
              "      <th>student2</th>\n",
              "      <td>0.404887</td>\n",
              "      <td>0.115019</td>\n",
              "      <td>3.520177</td>\n",
              "      <td>0.000431</td>\n",
              "      <td>0.179454</td>\n",
              "      <td>0.630320</td>\n",
              "    </tr>\n",
              "  </tbody>\n",
              "</table>\n",
              "</div>"
            ],
            "text/plain": [
              "             Coef.  Std.Err.          z     P>|z|    [0.025    0.975]\n",
              "const    -3.504128  0.070713 -49.554094  0.000000 -3.642723 -3.365532\n",
              "student2  0.404887  0.115019   3.520177  0.000431  0.179454  0.630320"
            ]
          },
          "metadata": {
            "tags": []
          },
          "execution_count": 30
        }
      ]
    },
    {
      "cell_type": "markdown",
      "metadata": {
        "id": "D_iJQmc_nxj5"
      },
      "source": [
        "#### 다중 로지스틱 회귀\n",
        "- 설명 변수: balance, income, student\n",
        "- 반응 변수: default"
      ]
    },
    {
      "cell_type": "code",
      "metadata": {
        "colab": {
          "base_uri": "https://localhost:8080/",
          "height": 218
        },
        "id": "XAmZsGgBnqDI",
        "outputId": "e9ebcf4c-2d13-4eba-d674-2d3700ba6c43"
      },
      "source": [
        "X_train = sm.add_constant(df[['balance', 'income', 'student2']])\n",
        "est = sm.Logit(y,X_train).fit()\n",
        "est.summary2().tables[1]"
      ],
      "execution_count": 33,
      "outputs": [
        {
          "output_type": "stream",
          "text": [
            "Optimization terminated successfully.\n",
            "         Current function value: 0.078577\n",
            "         Iterations 10\n"
          ],
          "name": "stdout"
        },
        {
          "output_type": "execute_result",
          "data": {
            "text/html": [
              "<div>\n",
              "<style scoped>\n",
              "    .dataframe tbody tr th:only-of-type {\n",
              "        vertical-align: middle;\n",
              "    }\n",
              "\n",
              "    .dataframe tbody tr th {\n",
              "        vertical-align: top;\n",
              "    }\n",
              "\n",
              "    .dataframe thead th {\n",
              "        text-align: right;\n",
              "    }\n",
              "</style>\n",
              "<table border=\"1\" class=\"dataframe\">\n",
              "  <thead>\n",
              "    <tr style=\"text-align: right;\">\n",
              "      <th></th>\n",
              "      <th>Coef.</th>\n",
              "      <th>Std.Err.</th>\n",
              "      <th>z</th>\n",
              "      <th>P&gt;|z|</th>\n",
              "      <th>[0.025</th>\n",
              "      <th>0.975]</th>\n",
              "    </tr>\n",
              "  </thead>\n",
              "  <tbody>\n",
              "    <tr>\n",
              "      <th>const</th>\n",
              "      <td>-10.869045</td>\n",
              "      <td>0.492273</td>\n",
              "      <td>-22.079320</td>\n",
              "      <td>4.995499e-108</td>\n",
              "      <td>-11.833882</td>\n",
              "      <td>-9.904209</td>\n",
              "    </tr>\n",
              "    <tr>\n",
              "      <th>balance</th>\n",
              "      <td>0.005737</td>\n",
              "      <td>0.000232</td>\n",
              "      <td>24.736506</td>\n",
              "      <td>4.331521e-135</td>\n",
              "      <td>0.005282</td>\n",
              "      <td>0.006191</td>\n",
              "    </tr>\n",
              "    <tr>\n",
              "      <th>income</th>\n",
              "      <td>0.000003</td>\n",
              "      <td>0.000008</td>\n",
              "      <td>0.369808</td>\n",
              "      <td>7.115254e-01</td>\n",
              "      <td>-0.000013</td>\n",
              "      <td>0.000019</td>\n",
              "    </tr>\n",
              "    <tr>\n",
              "      <th>student2</th>\n",
              "      <td>-0.646776</td>\n",
              "      <td>0.236257</td>\n",
              "      <td>-2.737595</td>\n",
              "      <td>6.189022e-03</td>\n",
              "      <td>-1.109831</td>\n",
              "      <td>-0.183721</td>\n",
              "    </tr>\n",
              "  </tbody>\n",
              "</table>\n",
              "</div>"
            ],
            "text/plain": [
              "              Coef.  Std.Err.          z          P>|z|     [0.025    0.975]\n",
              "const    -10.869045  0.492273 -22.079320  4.995499e-108 -11.833882 -9.904209\n",
              "balance    0.005737  0.000232  24.736506  4.331521e-135   0.005282  0.006191\n",
              "income     0.000003  0.000008   0.369808   7.115254e-01  -0.000013  0.000019\n",
              "student2  -0.646776  0.236257  -2.737595   6.189022e-03  -1.109831 -0.183721"
            ]
          },
          "metadata": {
            "tags": []
          },
          "execution_count": 33
        }
      ]
    },
    {
      "cell_type": "markdown",
      "metadata": {
        "id": "Tc_DZP1woWym"
      },
      "source": [
        "#### 교략(Confounding)"
      ]
    },
    {
      "cell_type": "code",
      "metadata": {
        "colab": {
          "base_uri": "https://localhost:8080/"
        },
        "id": "QlKqqABvoDfm",
        "outputId": "f1cd7a3f-dcaa-4fb6-f540-8ba59aac9219"
      },
      "source": [
        "# student에 대한 balance와 default\n",
        "X_train = df[df.student == 'Yes'].balance.values.reshape(df[df.student=='Yes'].balance.size,1)\n",
        "y = df[df.student == 'Yes'].default2\n",
        "\n",
        "# non-student에 대한 balance와 default\n",
        "X_train2 = df[df.student == 'No'].balance.values.reshape(df[df.student == 'No'].balance.size,1) \n",
        "y2 = df[df.student == 'No'].default2\n",
        "\n",
        "X_test = np.arange(df.balance.min(), df.balance.max()).reshape(-1,1)\n",
        "\n",
        "clf = skl_lm.LogisticRegression(solver='newton-cg')\n",
        "clf2 = skl_lm.LogisticRegression(solver='newton-cg')\n",
        "\n",
        "clf.fit(X_train,y)\n",
        "clf2.fit(X_train2,y2)\n",
        "\n",
        "prob = clf.predict_proba(X_test)\n",
        "prob2 = clf2.predict_proba(X_test)"
      ],
      "execution_count": 34,
      "outputs": [
        {
          "output_type": "stream",
          "text": [
            "/usr/local/lib/python3.7/dist-packages/scipy/optimize/linesearch.py:314: LineSearchWarning: The line search algorithm did not converge\n",
            "  warn('The line search algorithm did not converge', LineSearchWarning)\n",
            "/usr/local/lib/python3.7/dist-packages/sklearn/utils/optimize.py:204: UserWarning: Line Search failed\n",
            "  warnings.warn('Line Search failed')\n"
          ],
          "name": "stderr"
        }
      ]
    },
    {
      "cell_type": "code",
      "metadata": {
        "colab": {
          "base_uri": "https://localhost:8080/",
          "height": 135
        },
        "id": "bL2bUzxcrMuw",
        "outputId": "60e0471d-0df0-4a33-e486-111b57eccac0"
      },
      "source": [
        "df.groupby(['student', 'default']).size().unstack('default')"
      ],
      "execution_count": 36,
      "outputs": [
        {
          "output_type": "execute_result",
          "data": {
            "text/html": [
              "<div>\n",
              "<style scoped>\n",
              "    .dataframe tbody tr th:only-of-type {\n",
              "        vertical-align: middle;\n",
              "    }\n",
              "\n",
              "    .dataframe tbody tr th {\n",
              "        vertical-align: top;\n",
              "    }\n",
              "\n",
              "    .dataframe thead th {\n",
              "        text-align: right;\n",
              "    }\n",
              "</style>\n",
              "<table border=\"1\" class=\"dataframe\">\n",
              "  <thead>\n",
              "    <tr style=\"text-align: right;\">\n",
              "      <th>default</th>\n",
              "      <th>No</th>\n",
              "      <th>Yes</th>\n",
              "    </tr>\n",
              "    <tr>\n",
              "      <th>student</th>\n",
              "      <th></th>\n",
              "      <th></th>\n",
              "    </tr>\n",
              "  </thead>\n",
              "  <tbody>\n",
              "    <tr>\n",
              "      <th>No</th>\n",
              "      <td>6850</td>\n",
              "      <td>206</td>\n",
              "    </tr>\n",
              "    <tr>\n",
              "      <th>Yes</th>\n",
              "      <td>2817</td>\n",
              "      <td>127</td>\n",
              "    </tr>\n",
              "  </tbody>\n",
              "</table>\n",
              "</div>"
            ],
            "text/plain": [
              "default    No  Yes\n",
              "student           \n",
              "No       6850  206\n",
              "Yes      2817  127"
            ]
          },
          "metadata": {
            "tags": []
          },
          "execution_count": 36
        }
      ]
    },
    {
      "cell_type": "code",
      "metadata": {
        "colab": {
          "base_uri": "https://localhost:8080/",
          "height": 385
        },
        "id": "q-HeQ5jgrSwD",
        "outputId": "e4651b98-7f66-41da-eba7-072c81cadc89"
      },
      "source": [
        "# 시각화\n",
        "fig, (ax1, ax2) = plt.subplots(1,2, figsize=(12,5))\n",
        "\n",
        "# 왼쪽 plot\n",
        "ax1.plot(X_test, pd.DataFrame(prob)[1], color='orange', label='Student')\n",
        "ax1.plot(X_test, pd.DataFrame(prob2)[1], color='lightblue', label='Non-student')\n",
        "ax1.hlines(127/2817, colors='orange', label='Overall Student',\n",
        "           xmin=ax1.xaxis.get_data_interval()[0],\n",
        "           xmax=ax1.xaxis.get_data_interval()[1], linestyles='dashed')\n",
        "ax1.hlines(206/6850, colors='lightblue', label='Overall Non-Student',\n",
        "           xmin=ax1.xaxis.get_data_interval()[0],\n",
        "           xmax=ax1.xaxis.get_data_interval()[1], linestyles='dashed')\n",
        "ax1.set_ylabel('Default Rate')\n",
        "ax1.set_xlabel('Credit Card Balance')\n",
        "ax1.set_yticks([0, 0.2, 0.4, 0.6, 0.8, 1.])\n",
        "ax1.set_xlim(450,2500)\n",
        "ax1.legend(loc=2)\n",
        "\n",
        "# 오른쪽 plot\n",
        "sns.boxplot('student', 'balance', data=df, orient='v', ax=ax2,  palette=c_palette);"
      ],
      "execution_count": 37,
      "outputs": [
        {
          "output_type": "stream",
          "text": [
            "/usr/local/lib/python3.7/dist-packages/seaborn/_decorators.py:43: FutureWarning: Pass the following variables as keyword args: x, y. From version 0.12, the only valid positional argument will be `data`, and passing other arguments without an explicit keyword will result in an error or misinterpretation.\n",
            "  FutureWarning\n"
          ],
          "name": "stderr"
        },
        {
          "output_type": "display_data",
          "data": {
            "image/png": "[encoded data removed]",
            "text/plain": [
              "<Figure size 864x360 with 2 Axes>"
            ]
          },
          "metadata": {
            "tags": []
          }
        }
      ]
    },
    {
      "cell_type": "markdown",
      "metadata": {
        "id": "luciLXPEriU4"
      },
      "source": [
        "## 4.4 선형 판별 분석(Linear Discriminant Analysis)\n",
        "- 선형 판별 분석은 베이즈 분류기를 근사화하는 모델입니다.\n",
        "- X의 분포를 가우시안으로 가정합니다.\n",
        "- 사전 확률, 각 class에 해당하는 X의 평균, X의 분산을 추정하여 사후 확률을 계산합니다. \n",
        "- X의 분산은 모든 class에 대해 동일하다고 가정합니다.\n",
        "- Y가 3개 이상인 경우 로지스틱 회귀 대신에 사용합니다.\n",
        "- 결정 경계를 선형으로 예측합니다.\n",
        "- X의 분포가 가우시안이 아닌 경우, 로지스틱 회귀의 성능이 더 뛰어납니다."
      ]
    },
    {
      "cell_type": "code",
      "metadata": {
        "colab": {
          "base_uri": "https://localhost:8080/",
          "height": 135
        },
        "id": "uDyS_kuerdz4",
        "outputId": "c81726a8-53a8-420c-8ce8-598026710081"
      },
      "source": [
        "X = df[['balance', 'income', 'student2']]\n",
        "y = df.default2\n",
        "\n",
        "# 선형 판별 분석\n",
        "lda = LinearDiscriminantAnalysis(solver='svd')\n",
        "y_pred = lda.fit(X, y).predict(X)\n",
        "\n",
        "df_ = pd.DataFrame({'True default status': y,\n",
        "                    'Predicted default status': y_pred})\n",
        "df_.replace(to_replace={0:'No', 1:'Yes'}, inplace=True)\n",
        "\n",
        "df_.groupby(['Predicted default status','True default status']).size().unstack('True default status')"
      ],
      "execution_count": 42,
      "outputs": [
        {
          "output_type": "execute_result",
          "data": {
            "text/html": [
              "<div>\n",
              "<style scoped>\n",
              "    .dataframe tbody tr th:only-of-type {\n",
              "        vertical-align: middle;\n",
              "    }\n",
              "\n",
              "    .dataframe tbody tr th {\n",
              "        vertical-align: top;\n",
              "    }\n",
              "\n",
              "    .dataframe thead th {\n",
              "        text-align: right;\n",
              "    }\n",
              "</style>\n",
              "<table border=\"1\" class=\"dataframe\">\n",
              "  <thead>\n",
              "    <tr style=\"text-align: right;\">\n",
              "      <th>True default status</th>\n",
              "      <th>No</th>\n",
              "      <th>Yes</th>\n",
              "    </tr>\n",
              "    <tr>\n",
              "      <th>Predicted default status</th>\n",
              "      <th></th>\n",
              "      <th></th>\n",
              "    </tr>\n",
              "  </thead>\n",
              "  <tbody>\n",
              "    <tr>\n",
              "      <th>No</th>\n",
              "      <td>9645</td>\n",
              "      <td>254</td>\n",
              "    </tr>\n",
              "    <tr>\n",
              "      <th>Yes</th>\n",
              "      <td>22</td>\n",
              "      <td>79</td>\n",
              "    </tr>\n",
              "  </tbody>\n",
              "</table>\n",
              "</div>"
            ],
            "text/plain": [
              "True default status         No  Yes\n",
              "Predicted default status           \n",
              "No                        9645  254\n",
              "Yes                         22   79"
            ]
          },
          "metadata": {
            "tags": []
          },
          "execution_count": 42
        }
      ]
    },
    {
      "cell_type": "code",
      "metadata": {
        "colab": {
          "base_uri": "https://localhost:8080/"
        },
        "id": "BtLD7g1EsOxx",
        "outputId": "f714715f-4d17-440f-aa76-d03725599c12"
      },
      "source": [
        "print(classification_report(y, y_pred, target_names=['No', 'Yes']))"
      ],
      "execution_count": 43,
      "outputs": [
        {
          "output_type": "stream",
          "text": [
            "              precision    recall  f1-score   support\n",
            "\n",
            "          No       0.97      1.00      0.99      9667\n",
            "         Yes       0.78      0.24      0.36       333\n",
            "\n",
            "    accuracy                           0.97     10000\n",
            "   macro avg       0.88      0.62      0.67     10000\n",
            "weighted avg       0.97      0.97      0.97     10000\n",
            "\n"
          ],
          "name": "stdout"
        }
      ]
    },
    {
      "cell_type": "markdown",
      "metadata": {
        "id": "pCJMR7DLs43w"
      },
      "source": [
        "#### 사후 확률 임계값 낮추기\n",
        "- 회사의 목적은 default를 판별하는 것이므로 default가 되는 사후 확률의 임계값을 낮춥니다.\n",
        "- default error는 낮아지지만, non-default error는 높아집니다."
      ]
    },
    {
      "cell_type": "code",
      "metadata": {
        "colab": {
          "base_uri": "https://localhost:8080/",
          "height": 135
        },
        "id": "4jHWto2ls0il",
        "outputId": "0c485164-97d9-4d05-ef3e-8dbf29bce7b5"
      },
      "source": [
        "decision_prob = 0.2\n",
        "y_prob = lda.fit(X, y).predict_proba(X)\n",
        "\n",
        "df_ = pd.DataFrame({'True default status': y,\n",
        "                    'Predicted default status': y_prob[:,1] > decision_prob})\n",
        "df_.replace(to_replace={0:'No', 1:'Yes', 'True':'Yes', 'False':'No'}, inplace=True)\n",
        "\n",
        "df_.groupby(['Predicted default status','True default status']).size().unstack('True default status')"
      ],
      "execution_count": 44,
      "outputs": [
        {
          "output_type": "execute_result",
          "data": {
            "text/html": [
              "<div>\n",
              "<style scoped>\n",
              "    .dataframe tbody tr th:only-of-type {\n",
              "        vertical-align: middle;\n",
              "    }\n",
              "\n",
              "    .dataframe tbody tr th {\n",
              "        vertical-align: top;\n",
              "    }\n",
              "\n",
              "    .dataframe thead th {\n",
              "        text-align: right;\n",
              "    }\n",
              "</style>\n",
              "<table border=\"1\" class=\"dataframe\">\n",
              "  <thead>\n",
              "    <tr style=\"text-align: right;\">\n",
              "      <th>True default status</th>\n",
              "      <th>No</th>\n",
              "      <th>Yes</th>\n",
              "    </tr>\n",
              "    <tr>\n",
              "      <th>Predicted default status</th>\n",
              "      <th></th>\n",
              "      <th></th>\n",
              "    </tr>\n",
              "  </thead>\n",
              "  <tbody>\n",
              "    <tr>\n",
              "      <th>No</th>\n",
              "      <td>9435</td>\n",
              "      <td>140</td>\n",
              "    </tr>\n",
              "    <tr>\n",
              "      <th>Yes</th>\n",
              "      <td>232</td>\n",
              "      <td>193</td>\n",
              "    </tr>\n",
              "  </tbody>\n",
              "</table>\n",
              "</div>"
            ],
            "text/plain": [
              "True default status         No  Yes\n",
              "Predicted default status           \n",
              "No                        9435  140\n",
              "Yes                        232  193"
            ]
          },
          "metadata": {
            "tags": []
          },
          "execution_count": 44
        }
      ]
    },
    {
      "cell_type": "markdown",
      "metadata": {
        "id": "hj4Xiix7tNGT"
      },
      "source": [
        "# Lab\n",
        "## 4.6.3 선형 판별 분석\n",
        "- 주식 데이터에 LDA를 수행합니다."
      ]
    },
    {
      "cell_type": "code",
      "metadata": {
        "id": "BKkwxXv8tLSa"
      },
      "source": [
        "df = pd.read_csv('/content/ISL-python/datasets/Smarket.csv', usecols=range(1,10), index_col=0, parse_dates=True)"
      ],
      "execution_count": 45,
      "outputs": []
    },
    {
      "cell_type": "code",
      "metadata": {
        "id": "5rimpqpAtz9K"
      },
      "source": [
        "X_train = df[:'2004'][['Lag1','Lag2']]\n",
        "y_train = df[:'2004']['Direction']\n",
        "\n",
        "X_test = df['2005':][['Lag1','Lag2']]\n",
        "y_test = df['2005':]['Direction']\n",
        "\n",
        "# 선형 판별 분석\n",
        "lda = LinearDiscriminantAnalysis()\n",
        "\n",
        "# 예측값\n",
        "pred = lda.fit(X_train, y_train).predict(X_test)"
      ],
      "execution_count": 47,
      "outputs": []
    },
    {
      "cell_type": "code",
      "metadata": {
        "colab": {
          "base_uri": "https://localhost:8080/"
        },
        "id": "Xq8IH4rat1n5",
        "outputId": "6add1c80-c2d9-4ca3-c65b-a0bfbeecfec3"
      },
      "source": [
        "# 사전 확률 추정값\n",
        "lda.priors_"
      ],
      "execution_count": 48,
      "outputs": [
        {
          "output_type": "execute_result",
          "data": {
            "text/plain": [
              "array([0.49198397, 0.50801603])"
            ]
          },
          "metadata": {
            "tags": []
          },
          "execution_count": 48
        }
      ]
    },
    {
      "cell_type": "code",
      "metadata": {
        "colab": {
          "base_uri": "https://localhost:8080/"
        },
        "id": "_GGx7cTruBO-",
        "outputId": "3f81cb55-5592-4262-ec2b-43a50da85181"
      },
      "source": [
        "# X 분포의 평균 추정\n",
        "lda.means_"
      ],
      "execution_count": 50,
      "outputs": [
        {
          "output_type": "execute_result",
          "data": {
            "text/plain": [
              "array([[ 0.04279022,  0.03389409],\n",
              "       [-0.03954635, -0.03132544]])"
            ]
          },
          "metadata": {
            "tags": []
          },
          "execution_count": 50
        }
      ]
    },
    {
      "cell_type": "code",
      "metadata": {
        "colab": {
          "base_uri": "https://localhost:8080/"
        },
        "id": "okSa5LFVuDZw",
        "outputId": "3b939370-d699-47ec-eb25-95b4d02e5ada"
      },
      "source": [
        "# 계수 추정\n",
        "lda.coef_"
      ],
      "execution_count": 51,
      "outputs": [
        {
          "output_type": "execute_result",
          "data": {
            "text/plain": [
              "array([[-0.05544078, -0.0443452 ]])"
            ]
          },
          "metadata": {
            "tags": []
          },
          "execution_count": 51
        }
      ]
    },
    {
      "cell_type": "code",
      "metadata": {
        "colab": {
          "base_uri": "https://localhost:8080/"
        },
        "id": "QGrMW4rEuNnb",
        "outputId": "388576a4-364a-490a-ef58-6f1b0e631628"
      },
      "source": [
        "# 교락 행렬\n",
        "confusion_matrix(y_test, pred).T"
      ],
      "execution_count": 52,
      "outputs": [
        {
          "output_type": "execute_result",
          "data": {
            "text/plain": [
              "array([[ 35,  35],\n",
              "       [ 76, 106]])"
            ]
          },
          "metadata": {
            "tags": []
          },
          "execution_count": 52
        }
      ]
    },
    {
      "cell_type": "code",
      "metadata": {
        "colab": {
          "base_uri": "https://localhost:8080/"
        },
        "id": "qwsKieymuQRb",
        "outputId": "59b1ca5c-acc2-4eea-b3e9-ab248bc14850"
      },
      "source": [
        "print(classification_report(y_test, pred, digits=3))"
      ],
      "execution_count": 53,
      "outputs": [
        {
          "output_type": "stream",
          "text": [
            "              precision    recall  f1-score   support\n",
            "\n",
            "        Down      0.500     0.315     0.387       111\n",
            "          Up      0.582     0.752     0.656       141\n",
            "\n",
            "    accuracy                          0.560       252\n",
            "   macro avg      0.541     0.534     0.522       252\n",
            "weighted avg      0.546     0.560     0.538       252\n",
            "\n"
          ],
          "name": "stdout"
        }
      ]
    },
    {
      "cell_type": "code",
      "metadata": {
        "id": "X1lDv7PFuSMJ"
      },
      "source": [
        "pred_p = lda.predict_proba(X_test) # X_test에 대해 예측 수행"
      ],
      "execution_count": 54,
      "outputs": []
    },
    {
      "cell_type": "code",
      "metadata": {
        "colab": {
          "base_uri": "https://localhost:8080/"
        },
        "id": "tATSM0vuuVYy",
        "outputId": "ef727d17-3d2a-4d82-e3ae-27fd309ce2e5"
      },
      "source": [
        "np.unique(pred_p[:,1]>0.5, return_counts=True) # 사후 확률 임계값"
      ],
      "execution_count": 55,
      "outputs": [
        {
          "output_type": "execute_result",
          "data": {
            "text/plain": [
              "(array([False,  True]), array([ 70, 182]))"
            ]
          },
          "metadata": {
            "tags": []
          },
          "execution_count": 55
        }
      ]
    },
    {
      "cell_type": "code",
      "metadata": {
        "colab": {
          "base_uri": "https://localhost:8080/"
        },
        "id": "nFRdRHKkuWyA",
        "outputId": "2130dac5-593d-4957-8ea3-fff7c32d025c"
      },
      "source": [
        "np.unique(pred_p[:,1]>0.9, return_counts=True) # 사후 확률 임계값"
      ],
      "execution_count": 57,
      "outputs": [
        {
          "output_type": "execute_result",
          "data": {
            "text/plain": [
              "(array([False]), array([252]))"
            ]
          },
          "metadata": {
            "tags": []
          },
          "execution_count": 57
        }
      ]
    },
    {
      "cell_type": "markdown",
      "metadata": {
        "id": "uWxd2EdWuioE"
      },
      "source": [
        "## 4.6.4 이차 판별 분석\n",
        "- 결정 경계를 비선형으로 예측합니다.\n",
        "- X의 사전확률, 각 class에 대한 X의 평균과 분산을 추정하여 사후확률을 계산합니다."
      ]
    },
    {
      "cell_type": "code",
      "metadata": {
        "id": "Ud1fJ1R0uYB6"
      },
      "source": [
        "# 이차 판별 분석\n",
        "qda = QuadraticDiscriminantAnalysis()\n",
        "\n",
        "# 예측 수행\n",
        "pred = qda.fit(X_train, y_train).predict(X_test)"
      ],
      "execution_count": 59,
      "outputs": []
    },
    {
      "cell_type": "code",
      "metadata": {
        "colab": {
          "base_uri": "https://localhost:8080/"
        },
        "id": "S2AeNCsqvh6_",
        "outputId": "029783f5-a410-4c66-fcbd-7d60c03640b7"
      },
      "source": [
        "# 사전 확률 계산\n",
        "qda.priors_"
      ],
      "execution_count": 60,
      "outputs": [
        {
          "output_type": "execute_result",
          "data": {
            "text/plain": [
              "array([0.49198397, 0.50801603])"
            ]
          },
          "metadata": {
            "tags": []
          },
          "execution_count": 60
        }
      ]
    },
    {
      "cell_type": "code",
      "metadata": {
        "colab": {
          "base_uri": "https://localhost:8080/"
        },
        "id": "PMpZzAvYvm4O",
        "outputId": "60774c83-6190-42dd-eb82-9f5396d6976c"
      },
      "source": [
        "# 추정한 평균 출력\n",
        "qda.means_"
      ],
      "execution_count": 61,
      "outputs": [
        {
          "output_type": "execute_result",
          "data": {
            "text/plain": [
              "array([[ 0.04279022,  0.03389409],\n",
              "       [-0.03954635, -0.03132544]])"
            ]
          },
          "metadata": {
            "tags": []
          },
          "execution_count": 61
        }
      ]
    },
    {
      "cell_type": "code",
      "metadata": {
        "colab": {
          "base_uri": "https://localhost:8080/"
        },
        "id": "OOFPlv1DvpeB",
        "outputId": "479fdf75-53ae-4d43-e705-fc98e73780be"
      },
      "source": [
        "# 교락 행렬\n",
        "confusion_matrix(y_test, pred).T"
      ],
      "execution_count": 63,
      "outputs": [
        {
          "output_type": "execute_result",
          "data": {
            "text/plain": [
              "array([[ 30,  20],\n",
              "       [ 81, 121]])"
            ]
          },
          "metadata": {
            "tags": []
          },
          "execution_count": 63
        }
      ]
    },
    {
      "cell_type": "code",
      "metadata": {
        "colab": {
          "base_uri": "https://localhost:8080/"
        },
        "id": "KqF9wtk0vrVG",
        "outputId": "70f6c511-eec9-4a58-927f-c9b685b6f8d2"
      },
      "source": [
        "print(classification_report(y_test, pred, digits=3))"
      ],
      "execution_count": 64,
      "outputs": [
        {
          "output_type": "stream",
          "text": [
            "              precision    recall  f1-score   support\n",
            "\n",
            "        Down      0.600     0.270     0.373       111\n",
            "          Up      0.599     0.858     0.706       141\n",
            "\n",
            "    accuracy                          0.599       252\n",
            "   macro avg      0.600     0.564     0.539       252\n",
            "weighted avg      0.599     0.599     0.559       252\n",
            "\n"
          ],
          "name": "stdout"
        }
      ]
    },
    {
      "cell_type": "markdown",
      "metadata": {
        "id": "nPcszeHWvwe-"
      },
      "source": [
        "## 4.6.5 K 최근접 이웃(K-Nearest Neighbors)\n",
        "- 비 모수적 방법이며, 선택한 K에 따라 flexible의 정도를 결정합니다.\n",
        "- 관측값과 가장 가까운 K개의 값을 선택하고, 선택한 값이 가장 많이 속해있는 class을 관측값에 할당합니다."
      ]
    },
    {
      "cell_type": "code",
      "metadata": {
        "colab": {
          "base_uri": "https://localhost:8080/"
        },
        "id": "Iy4hsUFIvv0m",
        "outputId": "7fd71849-07d4-431d-f099-e5ec40c8764e"
      },
      "source": [
        "# K = 1\n",
        "knn = neighbors.KNeighborsClassifier(n_neighbors=1)\n",
        "pred = knn.fit(X_train, y_train).predict(X_test)\n",
        "print(confusion_matrix(y_test, pred).T)\n",
        "print(classification_report(y_test, pred, digits=3))"
      ],
      "execution_count": 65,
      "outputs": [
        {
          "output_type": "stream",
          "text": [
            "[[43 58]\n",
            " [68 83]]\n",
            "              precision    recall  f1-score   support\n",
            "\n",
            "        Down      0.426     0.387     0.406       111\n",
            "          Up      0.550     0.589     0.568       141\n",
            "\n",
            "    accuracy                          0.500       252\n",
            "   macro avg      0.488     0.488     0.487       252\n",
            "weighted avg      0.495     0.500     0.497       252\n",
            "\n"
          ],
          "name": "stdout"
        }
      ]
    },
    {
      "cell_type": "code",
      "metadata": {
        "colab": {
          "base_uri": "https://localhost:8080/"
        },
        "id": "lyADEcGCw9Vf",
        "outputId": "e40673dc-6cf0-445c-9120-708e8ffc08c3"
      },
      "source": [
        "# K = 3\n",
        "knn = neighbors.KNeighborsClassifier(n_neighbors=3)\n",
        "pred = knn.fit(X_train, y_train).predict(X_test)\n",
        "print(confusion_matrix(y_test, pred).T)\n",
        "print(classification_report(y_test, pred, digits=3))"
      ],
      "execution_count": 67,
      "outputs": [
        {
          "output_type": "stream",
          "text": [
            "[[48 55]\n",
            " [63 86]]\n",
            "              precision    recall  f1-score   support\n",
            "\n",
            "        Down      0.466     0.432     0.449       111\n",
            "          Up      0.577     0.610     0.593       141\n",
            "\n",
            "    accuracy                          0.532       252\n",
            "   macro avg      0.522     0.521     0.521       252\n",
            "weighted avg      0.528     0.532     0.529       252\n",
            "\n"
          ],
          "name": "stdout"
        }
      ]
    },
    {
      "cell_type": "code",
      "metadata": {
        "id": "tiRq0Bgyw-rg"
      },
      "source": [
        ""
      ],
      "execution_count": null,
      "outputs": []
    }
  ]
}